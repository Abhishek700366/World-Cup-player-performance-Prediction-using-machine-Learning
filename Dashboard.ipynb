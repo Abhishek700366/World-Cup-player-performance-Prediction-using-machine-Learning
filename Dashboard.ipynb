{
 "cells": [
  {
   "cell_type": "code",
   "execution_count": 1,
   "id": "7ab2487e",
   "metadata": {},
   "outputs": [],
   "source": [
    "import warnings\n",
    "warnings.filterwarnings('ignore')\n",
    "\n",
    "import pandas as pd\n",
    "import plotly.express as px\n",
    "import plotly.graph_objects as go\n",
    "import plotly.io as pio\n",
    "pio.templates.default = \"plotly_white\"\n",
    "import numpy as np \n",
    "import matplotlib.pyplot as plt\n",
    "import seaborn as sns"
   ]
  },
  {
   "cell_type": "code",
   "execution_count": 2,
   "id": "868f36d2",
   "metadata": {},
   "outputs": [
    {
     "data": {
      "text/plain": [
       "'C:\\\\Users\\\\jhaab\\\\Downloads\\\\Industial Project'"
      ]
     },
     "execution_count": 2,
     "metadata": {},
     "output_type": "execute_result"
    }
   ],
   "source": [
    "import os\n",
    "os.getcwd()"
   ]
  },
  {
   "cell_type": "code",
   "execution_count": 3,
   "id": "597109c4",
   "metadata": {},
   "outputs": [],
   "source": [
    "Batsman_Data = pd.read_csv(\"C:/Users/jhaab/Downloads/Industial Project/Batsman_Data.csv\")"
   ]
  },
  {
   "cell_type": "code",
   "execution_count": 4,
   "id": "2c0ebc9a",
   "metadata": {},
   "outputs": [],
   "source": [
    "Ground_Data = pd.read_csv(\"C:/Users/jhaab/Downloads/Industial Project/Ground_Averages.csv\")\n",
    "ODI_Scores_Data = pd.read_csv(\"C:/Users/jhaab/Downloads/Industial Project/ODI_Match_Totals.csv\")\n",
    "ODI_Results_Data = pd.read_csv(\"C:/Users/jhaab/Downloads/Industial Project/ODI_Match_Results.csv\")\n",
    "WC_Players_Data = pd.read_csv(\"C:/Users/jhaab/Downloads/Industial Project/WC_players.csv\")\n",
    "Bowler_Data = pd.read_csv(\"C:/Users/jhaab/Downloads/Industial Project/Bowler_data.csv\")"
   ]
  },
  {
   "cell_type": "code",
   "execution_count": 5,
   "id": "4d475d86",
   "metadata": {},
   "outputs": [
    {
     "name": "stdout",
     "output_type": "stream",
     "text": [
      "Requirement already satisfied: dash in c:\\users\\jhaab\\anaconda3\\lib\\site-packages (2.15.0)\n",
      "Requirement already satisfied: Flask<3.1,>=1.0.4 in c:\\users\\jhaab\\anaconda3\\lib\\site-packages (from dash) (2.2.2)\n",
      "Requirement already satisfied: Werkzeug<3.1 in c:\\users\\jhaab\\anaconda3\\lib\\site-packages (from dash) (2.2.3)\n",
      "Requirement already satisfied: plotly>=5.0.0 in c:\\users\\jhaab\\anaconda3\\lib\\site-packages (from dash) (5.9.0)\n",
      "Requirement already satisfied: dash-html-components==2.0.0 in c:\\users\\jhaab\\anaconda3\\lib\\site-packages (from dash) (2.0.0)\n",
      "Requirement already satisfied: dash-core-components==2.0.0 in c:\\users\\jhaab\\anaconda3\\lib\\site-packages (from dash) (2.0.0)\n",
      "Requirement already satisfied: dash-table==5.0.0 in c:\\users\\jhaab\\anaconda3\\lib\\site-packages (from dash) (5.0.0)\n",
      "Requirement already satisfied: typing-extensions>=4.1.1 in c:\\users\\jhaab\\anaconda3\\lib\\site-packages (from dash) (4.9.0)\n",
      "Requirement already satisfied: requests in c:\\users\\jhaab\\anaconda3\\lib\\site-packages (from dash) (2.31.0)\n",
      "Requirement already satisfied: retrying in c:\\users\\jhaab\\anaconda3\\lib\\site-packages (from dash) (1.3.4)\n",
      "Requirement already satisfied: nest-asyncio in c:\\users\\jhaab\\anaconda3\\lib\\site-packages (from dash) (1.5.6)\n",
      "Requirement already satisfied: setuptools in c:\\users\\jhaab\\anaconda3\\lib\\site-packages (from dash) (68.0.0)\n",
      "Requirement already satisfied: importlib-metadata in c:\\users\\jhaab\\anaconda3\\lib\\site-packages (from dash) (6.0.0)\n",
      "Requirement already satisfied: Jinja2>=3.0 in c:\\users\\jhaab\\anaconda3\\lib\\site-packages (from Flask<3.1,>=1.0.4->dash) (3.1.2)\n",
      "Requirement already satisfied: itsdangerous>=2.0 in c:\\users\\jhaab\\anaconda3\\lib\\site-packages (from Flask<3.1,>=1.0.4->dash) (2.0.1)\n",
      "Requirement already satisfied: click>=8.0 in c:\\users\\jhaab\\anaconda3\\lib\\site-packages (from Flask<3.1,>=1.0.4->dash) (8.0.4)\n",
      "Requirement already satisfied: tenacity>=6.2.0 in c:\\users\\jhaab\\anaconda3\\lib\\site-packages (from plotly>=5.0.0->dash) (8.2.2)\n",
      "Requirement already satisfied: MarkupSafe>=2.1.1 in c:\\users\\jhaab\\anaconda3\\lib\\site-packages (from Werkzeug<3.1->dash) (2.1.1)\n",
      "Requirement already satisfied: zipp>=0.5 in c:\\users\\jhaab\\anaconda3\\lib\\site-packages (from importlib-metadata->dash) (3.11.0)\n",
      "Requirement already satisfied: charset-normalizer<4,>=2 in c:\\users\\jhaab\\anaconda3\\lib\\site-packages (from requests->dash) (2.0.4)\n",
      "Requirement already satisfied: idna<4,>=2.5 in c:\\users\\jhaab\\anaconda3\\lib\\site-packages (from requests->dash) (3.4)\n",
      "Requirement already satisfied: urllib3<3,>=1.21.1 in c:\\users\\jhaab\\anaconda3\\lib\\site-packages (from requests->dash) (1.26.16)\n",
      "Requirement already satisfied: certifi>=2017.4.17 in c:\\users\\jhaab\\anaconda3\\lib\\site-packages (from requests->dash) (2024.2.2)\n",
      "Requirement already satisfied: six>=1.7.0 in c:\\users\\jhaab\\anaconda3\\lib\\site-packages (from retrying->dash) (1.16.0)\n",
      "Requirement already satisfied: colorama in c:\\users\\jhaab\\anaconda3\\lib\\site-packages (from click>=8.0->Flask<3.1,>=1.0.4->dash) (0.4.6)\n",
      "Requirement already satisfied: dash-daq in c:\\users\\jhaab\\anaconda3\\lib\\site-packages (0.5.0)\n",
      "Requirement already satisfied: dash>=1.6.1 in c:\\users\\jhaab\\anaconda3\\lib\\site-packages (from dash-daq) (2.15.0)\n",
      "Requirement already satisfied: Flask<3.1,>=1.0.4 in c:\\users\\jhaab\\anaconda3\\lib\\site-packages (from dash>=1.6.1->dash-daq) (2.2.2)\n",
      "Requirement already satisfied: Werkzeug<3.1 in c:\\users\\jhaab\\anaconda3\\lib\\site-packages (from dash>=1.6.1->dash-daq) (2.2.3)\n",
      "Requirement already satisfied: plotly>=5.0.0 in c:\\users\\jhaab\\anaconda3\\lib\\site-packages (from dash>=1.6.1->dash-daq) (5.9.0)\n",
      "Requirement already satisfied: dash-html-components==2.0.0 in c:\\users\\jhaab\\anaconda3\\lib\\site-packages (from dash>=1.6.1->dash-daq) (2.0.0)\n",
      "Requirement already satisfied: dash-core-components==2.0.0 in c:\\users\\jhaab\\anaconda3\\lib\\site-packages (from dash>=1.6.1->dash-daq) (2.0.0)\n",
      "Requirement already satisfied: dash-table==5.0.0 in c:\\users\\jhaab\\anaconda3\\lib\\site-packages (from dash>=1.6.1->dash-daq) (5.0.0)\n",
      "Requirement already satisfied: typing-extensions>=4.1.1 in c:\\users\\jhaab\\anaconda3\\lib\\site-packages (from dash>=1.6.1->dash-daq) (4.9.0)\n",
      "Requirement already satisfied: requests in c:\\users\\jhaab\\anaconda3\\lib\\site-packages (from dash>=1.6.1->dash-daq) (2.31.0)\n",
      "Requirement already satisfied: retrying in c:\\users\\jhaab\\anaconda3\\lib\\site-packages (from dash>=1.6.1->dash-daq) (1.3.4)\n",
      "Requirement already satisfied: nest-asyncio in c:\\users\\jhaab\\anaconda3\\lib\\site-packages (from dash>=1.6.1->dash-daq) (1.5.6)\n",
      "Requirement already satisfied: setuptools in c:\\users\\jhaab\\anaconda3\\lib\\site-packages (from dash>=1.6.1->dash-daq) (68.0.0)\n",
      "Requirement already satisfied: importlib-metadata in c:\\users\\jhaab\\anaconda3\\lib\\site-packages (from dash>=1.6.1->dash-daq) (6.0.0)\n",
      "Requirement already satisfied: Jinja2>=3.0 in c:\\users\\jhaab\\anaconda3\\lib\\site-packages (from Flask<3.1,>=1.0.4->dash>=1.6.1->dash-daq) (3.1.2)\n",
      "Requirement already satisfied: itsdangerous>=2.0 in c:\\users\\jhaab\\anaconda3\\lib\\site-packages (from Flask<3.1,>=1.0.4->dash>=1.6.1->dash-daq) (2.0.1)\n",
      "Requirement already satisfied: click>=8.0 in c:\\users\\jhaab\\anaconda3\\lib\\site-packages (from Flask<3.1,>=1.0.4->dash>=1.6.1->dash-daq) (8.0.4)\n",
      "Requirement already satisfied: tenacity>=6.2.0 in c:\\users\\jhaab\\anaconda3\\lib\\site-packages (from plotly>=5.0.0->dash>=1.6.1->dash-daq) (8.2.2)\n",
      "Requirement already satisfied: MarkupSafe>=2.1.1 in c:\\users\\jhaab\\anaconda3\\lib\\site-packages (from Werkzeug<3.1->dash>=1.6.1->dash-daq) (2.1.1)\n",
      "Requirement already satisfied: zipp>=0.5 in c:\\users\\jhaab\\anaconda3\\lib\\site-packages (from importlib-metadata->dash>=1.6.1->dash-daq) (3.11.0)\n",
      "Requirement already satisfied: charset-normalizer<4,>=2 in c:\\users\\jhaab\\anaconda3\\lib\\site-packages (from requests->dash>=1.6.1->dash-daq) (2.0.4)\n",
      "Requirement already satisfied: idna<4,>=2.5 in c:\\users\\jhaab\\anaconda3\\lib\\site-packages (from requests->dash>=1.6.1->dash-daq) (3.4)\n",
      "Requirement already satisfied: urllib3<3,>=1.21.1 in c:\\users\\jhaab\\anaconda3\\lib\\site-packages (from requests->dash>=1.6.1->dash-daq) (1.26.16)\n",
      "Requirement already satisfied: certifi>=2017.4.17 in c:\\users\\jhaab\\anaconda3\\lib\\site-packages (from requests->dash>=1.6.1->dash-daq) (2024.2.2)\n",
      "Requirement already satisfied: six>=1.7.0 in c:\\users\\jhaab\\anaconda3\\lib\\site-packages (from retrying->dash>=1.6.1->dash-daq) (1.16.0)\n",
      "Requirement already satisfied: colorama in c:\\users\\jhaab\\anaconda3\\lib\\site-packages (from click>=8.0->Flask<3.1,>=1.0.4->dash>=1.6.1->dash-daq) (0.4.6)\n"
     ]
    }
   ],
   "source": [
    "!pip install dash\n",
    "!pip install dash-daq"
   ]
  },
  {
   "cell_type": "code",
   "execution_count": 6,
   "id": "1ca63412",
   "metadata": {},
   "outputs": [
    {
     "data": {
      "text/html": [
       "\n",
       "        <iframe\n",
       "            width=\"100%\"\n",
       "            height=\"650\"\n",
       "            src=\"http://127.0.0.1:8050/\"\n",
       "            frameborder=\"0\"\n",
       "            allowfullscreen\n",
       "            \n",
       "        ></iframe>\n",
       "        "
      ],
      "text/plain": [
       "<IPython.lib.display.IFrame at 0x23873c38dd0>"
      ]
     },
     "metadata": {},
     "output_type": "display_data"
    }
   ],
   "source": [
    "import dash\n",
    "import dash_core_components as dcc\n",
    "import dash_html_components as html\n",
    "import plotly.express as px\n",
    "import pandas as pd\n",
    "\n",
    "# Read in the data\n",
    "Batsman_Data = pd.read_csv(\"C:/Users/jhaab/Downloads/Industial Project/Batsman_Data.csv\")\n",
    "Ground_Data = pd.read_csv(\"C:/Users/jhaab/Downloads/Industial Project/Ground_Averages.csv\")\n",
    "ODI_Scores_Data = pd.read_csv(\"C:/Users/jhaab/Downloads/Industial Project/ODI_Match_Totals.csv\")\n",
    "ODI_Results_Data = pd.read_csv(\"C:/Users/jhaab/Downloads/Industial Project/ODI_Match_Results.csv\")\n",
    "WC_Players_Data = pd.read_csv(\"C:/Users/jhaab/Downloads/Industial Project/WC_players.csv\")\n",
    "Bowler_Data = pd.read_csv(\"C:/Users/jhaab/Downloads/Industial Project/Bowler_data.csv\")\n",
    "\n",
    "# Create the dashboard\n",
    "app = dash.Dash(__name__)\n",
    "\n",
    "app.layout = html.Div([\n",
    "    html.H1(\"Cricket Data Dashboard\"),\n",
    "    dcc.Graph(\n",
    "        id=\"batsman-runs\",\n",
    "        figure=px.histogram(Batsman_Data, x=\"Batsman\", nbins=50)\n",
    "    ),\n",
    "    dcc.Graph(\n",
    "        id=\"ground-averages\",\n",
    "        figure=px.scatter(Ground_Data, x=\"Ground\", y=\"Ave\", color=\"Span\")\n",
    "    ),\n",
    "    dcc.Graph(\n",
    "        id=\"odi-scores\",\n",
    "        figure=px.scatter(ODI_Scores_Data, x=\"Score\", y=\"Target\", color=\"Result\")\n",
    "    ),\n",
    "    dcc.Graph(\n",
    "        id=\"odi-results\",\n",
    "        figure=px.bar(ODI_Results_Data, x=\"Opposition\", y=\"Country\", color=\"Result\")\n",
    "    ),\n",
    "    dcc.Graph(\n",
    "        id=\"wc-players\",\n",
    "        figure=px.scatter(WC_Players_Data, x=\"Player\", y=\"Country\", color=\"ID\")\n",
    "    ),\n",
    "    dcc.Graph(\n",
    "        id=\"bowler-economy\",\n",
    "        figure=px.scatter(Bowler_Data, x=\"Bowler\", y=\"Econ\", color=\"Wkts\")\n",
    "    )\n",
    "])\n",
    "\n",
    "if __name__ == \"__main__\":\n",
    "    app.run_server(debug=True)"
   ]
  },
  {
   "cell_type": "code",
   "execution_count": null,
   "id": "b5fb1678",
   "metadata": {},
   "outputs": [],
   "source": []
  }
 ],
 "metadata": {
  "kernelspec": {
   "display_name": "Python 3 (ipykernel)",
   "language": "python",
   "name": "python3"
  },
  "language_info": {
   "codemirror_mode": {
    "name": "ipython",
    "version": 3
   },
   "file_extension": ".py",
   "mimetype": "text/x-python",
   "name": "python",
   "nbconvert_exporter": "python",
   "pygments_lexer": "ipython3",
   "version": "3.11.5"
  }
 },
 "nbformat": 4,
 "nbformat_minor": 5
}
